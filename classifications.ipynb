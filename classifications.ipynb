{
 "cells": [
  {
   "cell_type": "code",
   "execution_count": 1,
   "metadata": {},
   "outputs": [],
   "source": [
    "#import necessary libraries\n",
    "import numpy as np\n",
    "from sklearn.naive_bayes import GaussianNB\n",
    "from sklearn.metrics import accuracy_score\n",
    "import pandas as pd\n",
    "from sklearn import preprocessing\n",
    "from sklearn.preprocessing import Normalizer\n",
    "from sklearn.decomposition import PCA"
   ]
  },
  {
   "cell_type": "code",
   "execution_count": 11,
   "metadata": {},
   "outputs": [
    {
     "name": "stdout",
     "output_type": "stream",
     "text": [
      "        sex  pneumonia  age  asthma  hypertension  cardiovascular  covid_res\n",
      "0         1          2   51       2             2               2          1\n",
      "1         1          2   36       2             2               2          2\n",
      "2         2          2   57       2             1               2          2\n",
      "3         2          2   15       2             2               2          2\n",
      "4         2          2   37       1             2               2          3\n",
      "...     ...        ...  ...     ...           ...             ...        ...\n",
      "349994    2          2   38       2             2               2          1\n",
      "349995    2          2    2       2             2               2          2\n",
      "349996    2          2   75       1             1               2          3\n",
      "349997    2          1   75       2             2               2          1\n",
      "349998    2          1   71       2             2               2          1\n",
      "\n",
      "[349999 rows x 7 columns]\n"
     ]
    }
   ],
   "source": [
    "#Select dataset\n",
    "path='C:/pydatafiles/Italy.csv'\n",
    "Data=pd.read_csv(path)\n",
    "print(Data)"
   ]
  },
  {
   "cell_type": "code",
   "execution_count": 12,
   "metadata": {},
   "outputs": [
    {
     "name": "stdout",
     "output_type": "stream",
     "text": [
      "Transformed Data:\n",
      "         sex  pneumonia  age  asthma  hypertension  cardiovascular  covid_res\n",
      "0         0          1   51       1             1               1          0\n",
      "1         0          1   36       1             1               1          1\n",
      "2         1          1   57       1             0               1          1\n",
      "3         1          1   15       1             1               1          1\n",
      "4         1          1   37       0             1               1          2\n",
      "...     ...        ...  ...     ...           ...             ...        ...\n",
      "349994    1          1   38       1             1               1          0\n",
      "349995    1          1    2       1             1               1          1\n",
      "349996    1          1   75       0             0               1          2\n",
      "349997    1          0   75       1             1               1          0\n",
      "349998    1          0   71       1             1               1          0\n",
      "\n",
      "[349999 rows x 7 columns]\n",
      "Numeric Array\n",
      " [[ 0  1 51 ...  1  1  0]\n",
      " [ 0  1 36 ...  1  1  1]\n",
      " [ 1  1 57 ...  0  1  1]\n",
      " ...\n",
      " [ 1  1 75 ...  0  1  2]\n",
      " [ 1  0 75 ...  1  1  0]\n",
      " [ 1  0 71 ...  1  1  0]]\n",
      "Training Sample:\n",
      " [[ 0  1 51 ...  1  1  0]\n",
      " [ 0  1 36 ...  1  1  1]\n",
      " [ 1  1 57 ...  0  1  1]\n",
      " ...\n",
      " [ 1  1 48 ...  0  1  0]\n",
      " [ 0  1 32 ...  1  1  2]\n",
      " [ 1  1 36 ...  1  1  1]]\n",
      "Test Sample\n",
      " [[ 0  1  9 ...  1  1  1]\n",
      " [ 1  1 42 ...  1  1  1]\n",
      " [ 0  1 36 ...  1  1  0]\n",
      " ...\n",
      " [ 1  1 75 ...  0  1  2]\n",
      " [ 1  0 75 ...  1  1  0]\n",
      " [ 1  0 71 ...  1  1  0]]\n",
      "Independent Attributes of Training sample\n",
      " [[ 0  1 51  1  1  1]\n",
      " [ 0  1 36  1  1  1]\n",
      " [ 1  1 57  1  0  1]\n",
      " ...\n",
      " [ 1  1 48  1  0  1]\n",
      " [ 0  1 32  1  1  1]\n",
      " [ 1  1 36  1  1  1]]\n",
      "Dependent Attribute of Training Sample\n",
      "\n",
      " [0 1 1 ... 0 2 1]\n",
      "Independent Attributes of Test Sample\n",
      "\n",
      " [[ 0  1  9  1  1  1]\n",
      " [ 1  1 42  1  1  1]\n",
      " [ 0  1 36  1  1  1]\n",
      " ...\n",
      " [ 1  1 75  0  0  1]\n",
      " [ 1  0 75  1  1  1]\n",
      " [ 1  0 71  1  1  1]]\n",
      "dependent Attribute of Test Sample\n",
      "\n",
      " [1 1 0 ... 2 0 0]\n"
     ]
    }
   ],
   "source": [
    "#Pre-process the Data\n",
    "#i.Transform Target Population to Numeric array\n",
    "Encoder=preprocessing.LabelEncoder()\n",
    "Encoded_Data=Data.apply(preprocessing.LabelEncoder().fit_transform)\n",
    "print(\"Transformed Data:\\n\",Encoded_Data)\n",
    "Numeric_Array=Encoded_Data.values\n",
    "print(\"Numeric Array\\n\",Numeric_Array)\n",
    "#ii. Select Samples\n",
    "#a. select training sample\n",
    "split=100000\n",
    "Training_Sample=Numeric_Array[:split,:]\n",
    "print(\"Training Sample:\\n\",Training_Sample)\n",
    "#b. Select Test Sample\n",
    "Test_Sample=Numeric_Array[split:,:]\n",
    "print(\"Test Sample\\n\",Test_Sample)\n",
    "#c.Select Independent Attributes Sample\n",
    "#1. Select independent attributes of training sample\n",
    "X_Train_Sample=Training_Sample[:,:-1]\n",
    "print(\"Independent Attributes of Training sample\\n\", X_Train_Sample)\n",
    "#2. Select Dependent attribute of Training sample\n",
    "Y_Train_Sample=Training_Sample[:,-1]\n",
    "print(\"Dependent Attribute of Training Sample\\n\\n\",Y_Train_Sample)\n",
    "#3. Select Independent attributes of Test Sample\n",
    "X_Test_Sample= Test_Sample[:,:-1]\n",
    "print(\"Independent Attributes of Test Sample\\n\\n\",X_Test_Sample)\n",
    "Y_Test_Sample= Test_Sample[:,-1]\n",
    "print(\"dependent Attribute of Test Sample\\n\\n\",Y_Test_Sample)"
   ]
  },
  {
   "cell_type": "code",
   "execution_count": 13,
   "metadata": {},
   "outputs": [
    {
     "name": "stdout",
     "output_type": "stream",
     "text": [
      "Predicted Value: [1 1 1 ... 1 0 0]\n"
     ]
    }
   ],
   "source": [
    "# Bayessian Classification\n",
    "#i. Train the Naive Bayes algorithm\n",
    "#Create a Gaussian Classifier object\n",
    "Classifier_object = GaussianNB()\n",
    "#ii. Train the classifier object by passing X_training and Y_Train as parameters\n",
    "model=Classifier_object.fit(X_Train_Sample,Y_Train_Sample)\n",
    "#Using The Model to predict label of unknown instance\n",
    "#iii. Predict Output by passing X_Test sample to predict method as parameter\n",
    "predicted_y=model.predict(X_Test_Sample)\n",
    "print(\"Predicted Value:\", predicted_y)"
   ]
  },
  {
   "cell_type": "code",
   "execution_count": 14,
   "metadata": {},
   "outputs": [
    {
     "name": "stdout",
     "output_type": "stream",
     "text": [
      "Accuracy rate for Bayessian Classification is: 53.50101400405601\n"
     ]
    }
   ],
   "source": [
    "accuracy=accuracy_score(Y_Test_Sample,predicted_y)\n",
    "print(\"Accuracy rate for Bayessian Classification is:\",accuracy*100)"
   ]
  },
  {
   "cell_type": "code",
   "execution_count": null,
   "metadata": {},
   "outputs": [],
   "source": []
  },
  {
   "cell_type": "code",
   "execution_count": 16,
   "metadata": {},
   "outputs": [],
   "source": [
    "\"\"\" DECISION TREE CLASSIFICATION \"\"\"\n",
    "from sklearn.tree import DecisionTreeClassifier\n",
    "classifier = DecisionTreeClassifier(criterion = 'entropy', random_state = 0)\n",
    "classifier.fit(X_Train_Sample, Y_Train_Sample)\n",
    "y_pred = classifier.predict(X_Test_Sample)\n",
    "# Creating confusion matrix and calculating the accuracy score\n",
    "from sklearn.metrics import confusion_matrix, accuracy_score\n",
    "cm_dtc = confusion_matrix(Y_Test_Sample, y_pred)\n",
    "as_dtc = accuracy_score(Y_Test_Sample, y_pred)\n"
   ]
  },
  {
   "cell_type": "code",
   "execution_count": null,
   "metadata": {},
   "outputs": [],
   "source": [
    "fig = plt.figure(figsize=(25,20))\n",
    "_ = tree.plot_tree(clf, \n",
    "                   feature_names=iris.feature_names,  \n",
    "                   class_names=iris.target_names,\n",
    "                   filled=True)"
   ]
  },
  {
   "cell_type": "code",
   "execution_count": null,
   "metadata": {},
   "outputs": [],
   "source": []
  },
  {
   "cell_type": "code",
   "execution_count": 18,
   "metadata": {},
   "outputs": [],
   "source": [
    "\"\"\" RANDOM FOREST CLASSIFIER \"\"\"\n",
    "from sklearn.ensemble import RandomForestClassifier\n",
    "classifier = RandomForestClassifier(n_estimators = 500, criterion = 'entropy', random_state = 0)\n",
    "classifier.fit(X_Train_Sample, Y_Train_Sample)\n",
    "y_pred = classifier.predict(X_Test_Sample)\n",
    "# Creating confusion matrix and calculating the accuracy score\n",
    "cm_rfc = confusion_matrix(Y_Test_Sample, y_pred)\n",
    "as_rfc = accuracy_score(Y_Test_Sample, y_pred)"
   ]
  },
  {
   "cell_type": "code",
   "execution_count": null,
   "metadata": {},
   "outputs": [],
   "source": []
  },
  {
   "cell_type": "code",
   "execution_count": 19,
   "metadata": {},
   "outputs": [],
   "source": [
    "\"\"\" K-NEAREST NEIGHBORS \"\"\"\n",
    "from sklearn.neighbors import KNeighborsClassifier\n",
    "classifier = KNeighborsClassifier(n_neighbors = 5, metric = 'minkowski', p = 2)\n",
    "classifier.fit(X_Train_Sample, Y_Train_Sample)\n",
    "y_pred = classifier.predict(X_Test_Sample)\n",
    "# Creating confusion matrix and calculating the accuracy score\n",
    "cm_knn = confusion_matrix(Y_Test_Sample, y_pred)\n",
    "as_knn=accuracy_score(Y_Test_Sample, y_pred)"
   ]
  },
  {
   "cell_type": "code",
   "execution_count": 20,
   "metadata": {},
   "outputs": [
    {
     "name": "stdout",
     "output_type": "stream",
     "text": [
      "as_knn=0.4992059968239873\n",
      "as_dtc=0.5415901663606655\n",
      "as_rfc=0.5417861671446685\n",
      "The best accuracy score in this case is as_rfc with accuracy score 0.5417861671446685\n"
     ]
    }
   ],
   "source": [
    "# Evaluating the best method to use in this loan prediction case\n",
    "score={'as_knn':as_knn, 'as_dtc':as_dtc, 'as_rfc':as_rfc}\n",
    "score_list=[]\n",
    "for i in score:\n",
    "    score_list.append(score[i])\n",
    "    u=max(score_list)\n",
    "    if score[i]==u:\n",
    "        v=i  \n",
    "    print(f\"{i}={score[i]}\");   \n",
    "print(f\"The best accuracy score in this case is {v} with accuracy score {u}\")"
   ]
  },
  {
   "cell_type": "code",
   "execution_count": null,
   "metadata": {},
   "outputs": [],
   "source": []
  },
  {
   "cell_type": "code",
   "execution_count": null,
   "metadata": {},
   "outputs": [],
   "source": []
  },
  {
   "cell_type": "code",
   "execution_count": null,
   "metadata": {},
   "outputs": [],
   "source": []
  },
  {
   "cell_type": "code",
   "execution_count": null,
   "metadata": {},
   "outputs": [],
   "source": []
  },
  {
   "cell_type": "code",
   "execution_count": null,
   "metadata": {},
   "outputs": [],
   "source": []
  },
  {
   "cell_type": "code",
   "execution_count": null,
   "metadata": {},
   "outputs": [],
   "source": []
  },
  {
   "cell_type": "code",
   "execution_count": null,
   "metadata": {},
   "outputs": [],
   "source": []
  },
  {
   "cell_type": "code",
   "execution_count": null,
   "metadata": {},
   "outputs": [],
   "source": []
  },
  {
   "cell_type": "code",
   "execution_count": null,
   "metadata": {},
   "outputs": [],
   "source": []
  },
  {
   "cell_type": "code",
   "execution_count": null,
   "metadata": {},
   "outputs": [],
   "source": []
  }
 ],
 "metadata": {
  "kernelspec": {
   "display_name": "Python 3",
   "language": "python",
   "name": "python3"
  },
  "language_info": {
   "codemirror_mode": {
    "name": "ipython",
    "version": 3
   },
   "file_extension": ".py",
   "mimetype": "text/x-python",
   "name": "python",
   "nbconvert_exporter": "python",
   "pygments_lexer": "ipython3",
   "version": "3.8.5"
  }
 },
 "nbformat": 4,
 "nbformat_minor": 4
}
